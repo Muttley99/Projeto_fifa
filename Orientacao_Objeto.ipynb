{
 "cells": [
  {
   "cell_type": "code",
   "execution_count": 1,
   "id": "92d3d60e-03ef-4377-9753-580323d70c37",
   "metadata": {},
   "outputs": [],
   "source": [
    "##Orientação a Objeto.\n"
   ]
  },
  {
   "cell_type": "code",
   "execution_count": 4,
   "id": "5900583d-c9e3-4fde-89ce-b1b9c39c7e92",
   "metadata": {},
   "outputs": [
    {
     "name": "stdout",
     "output_type": "stream",
     "text": [
      "<class 'list'>\n"
     ]
    }
   ],
   "source": [
    "l = [1,2,3]\n",
    "print(type(l))"
   ]
  },
  {
   "cell_type": "code",
   "execution_count": 5,
   "id": "23220535-f36c-46b9-a1b9-b501c006fa47",
   "metadata": {},
   "outputs": [],
   "source": [
    "l.append(4)"
   ]
  },
  {
   "cell_type": "code",
   "execution_count": 6,
   "id": "8d108060-0c99-49be-a437-7dece9b9bb3d",
   "metadata": {},
   "outputs": [
    {
     "data": {
      "text/plain": [
       "[1, 2, 3, 4]"
      ]
     },
     "execution_count": 6,
     "metadata": {},
     "output_type": "execute_result"
    }
   ],
   "source": [
    "l"
   ]
  },
  {
   "cell_type": "code",
   "execution_count": 8,
   "id": "3a6c4d96-e873-4365-af7e-0ab7e58bf32f",
   "metadata": {},
   "outputs": [
    {
     "name": "stdout",
     "output_type": "stream",
     "text": [
      "<class 'str'>\n"
     ]
    }
   ],
   "source": [
    "string_ = 'str'\n",
    "print(type(string_))"
   ]
  },
  {
   "cell_type": "code",
   "execution_count": 9,
   "id": "24552ada-0c10-4755-a5bb-66fd52ea9372",
   "metadata": {},
   "outputs": [],
   "source": [
    "class exemplo:\n",
    "    pass"
   ]
  },
  {
   "cell_type": "code",
   "execution_count": 10,
   "id": "c8d4d663-830f-4090-9338-d63b5b217a35",
   "metadata": {},
   "outputs": [],
   "source": [
    "x = exemplo()"
   ]
  },
  {
   "cell_type": "code",
   "execution_count": 11,
   "id": "7bf856c0-3d6f-4878-8de2-561a8c4e5419",
   "metadata": {},
   "outputs": [
    {
     "name": "stdout",
     "output_type": "stream",
     "text": [
      "<class '__main__.exemplo'>\n"
     ]
    }
   ],
   "source": [
    "print(type(x))"
   ]
  },
  {
   "cell_type": "code",
   "execution_count": 33,
   "id": "4dfbbcd4-cad9-4908-b75c-5dcafa93a91b",
   "metadata": {},
   "outputs": [],
   "source": [
    "class Dog:\n",
    "    def __init__(self,raca):\n",
    "        self.raca = raca\n",
    "        self.idade = 10\n",
    "        print('{} Criado'.format(raca))\n",
    "    def envelhecer(self):\n",
    "        self.idade += 1"
   ]
  },
  {
   "cell_type": "code",
   "execution_count": 41,
   "id": "79d7ff3f-3bdf-4d42-aaa7-40beab1922d6",
   "metadata": {},
   "outputs": [
    {
     "name": "stdout",
     "output_type": "stream",
     "text": [
      "lab Criado\n",
      "huskie Criado\n"
     ]
    }
   ],
   "source": [
    "dog = Dog('lab')\n",
    "dog2 = Dog('huskie')"
   ]
  },
  {
   "cell_type": "code",
   "execution_count": 44,
   "id": "9c576007-f99b-42c3-a8a9-34ec6e74e1db",
   "metadata": {},
   "outputs": [],
   "source": [
    "dog.envelhecer()"
   ]
  },
  {
   "cell_type": "code",
   "execution_count": 45,
   "id": "b3282f27-755e-4e4a-9719-6bb0009f2580",
   "metadata": {},
   "outputs": [
    {
     "name": "stdout",
     "output_type": "stream",
     "text": [
      "11\n",
      "lab\n"
     ]
    }
   ],
   "source": [
    "print(dog.idade)\n",
    "print(dog.raca)"
   ]
  },
  {
   "cell_type": "code",
   "execution_count": 46,
   "id": "b97a7791-efa0-40cc-b63a-ec81ee17c7d6",
   "metadata": {},
   "outputs": [
    {
     "name": "stdout",
     "output_type": "stream",
     "text": [
      "10\n",
      "huskie\n"
     ]
    }
   ],
   "source": [
    "print(dog2.idade)\n",
    "print(dog2.raca)"
   ]
  },
  {
   "cell_type": "code",
   "execution_count": 47,
   "id": "84dd4b7a-7076-4ce1-9c9b-823314332b3f",
   "metadata": {},
   "outputs": [],
   "source": [
    "##Círculo"
   ]
  },
  {
   "cell_type": "code",
   "execution_count": 62,
   "id": "771f2d28-119e-4e90-9c0b-f8d7ab594bd0",
   "metadata": {},
   "outputs": [],
   "source": [
    "class Circle:\n",
    "    def __init__(self,raio=1):\n",
    "        self.raio = raio\n",
    "    def calcula_area(self):\n",
    "        return self.raio * self.raio * 3.14\n",
    "    \n",
    "    def retorna_raio(self):\n",
    "        return self.raio"
   ]
  },
  {
   "cell_type": "code",
   "execution_count": 63,
   "id": "849e4ef7-b9da-42c5-9942-f850d12f4a1c",
   "metadata": {},
   "outputs": [],
   "source": [
    "c1 = Circle()\n",
    "c2 = Circle(2)"
   ]
  },
  {
   "cell_type": "code",
   "execution_count": 60,
   "id": "fe983c4a-27e7-4335-a5b9-eafcdbc1f42b",
   "metadata": {},
   "outputs": [
    {
     "data": {
      "text/plain": [
       "3.14"
      ]
     },
     "execution_count": 60,
     "metadata": {},
     "output_type": "execute_result"
    }
   ],
   "source": [
    "c1.calcula_area()"
   ]
  },
  {
   "cell_type": "code",
   "execution_count": 61,
   "id": "c4c6fd27-e2a2-402e-983a-3a65428cfbc6",
   "metadata": {},
   "outputs": [
    {
     "data": {
      "text/plain": [
       "12.56"
      ]
     },
     "execution_count": 61,
     "metadata": {},
     "output_type": "execute_result"
    }
   ],
   "source": [
    "c2.calcula_area()"
   ]
  },
  {
   "cell_type": "code",
   "execution_count": 66,
   "id": "857fd166-2f07-44f2-afe1-01325e5228ac",
   "metadata": {},
   "outputs": [
    {
     "data": {
      "text/plain": [
       "1"
      ]
     },
     "execution_count": 66,
     "metadata": {},
     "output_type": "execute_result"
    }
   ],
   "source": [
    "c1.retorna_raio()"
   ]
  },
  {
   "cell_type": "code",
   "execution_count": 67,
   "id": "04c97570-7ff5-452d-8f6c-1cb06fa51e99",
   "metadata": {},
   "outputs": [
    {
     "name": "stdout",
     "output_type": "stream",
     "text": [
      "10\n"
     ]
    }
   ],
   "source": [
    "class MinhaClasse: \n",
    "    def __init__(self): \n",
    "        self.x = 10\n",
    "\n",
    "nota1 = MinhaClasse()\n",
    "print(nota1.x)"
   ]
  },
  {
   "cell_type": "code",
   "execution_count": 77,
   "id": "3be6eb06-5fde-4090-81d3-b5ea71290277",
   "metadata": {},
   "outputs": [],
   "source": [
    "class Pessoa:\n",
    "    def __unit__(self,nome,idade,cpf):\n",
    "        print(nome = 'vinicius')\n",
    "        idade = 24\n",
    "        cpf = 123456\n",
    "        pass"
   ]
  },
  {
   "cell_type": "code",
   "execution_count": 78,
   "id": "a129af63-29ca-46b1-9720-543187e15d74",
   "metadata": {},
   "outputs": [],
   "source": [
    "pessoa1 = Pessoa()"
   ]
  },
  {
   "cell_type": "code",
   "execution_count": null,
   "id": "93ff41d4-e4e1-48c7-b9e2-1caa7352b8f5",
   "metadata": {},
   "outputs": [],
   "source": []
  }
 ],
 "metadata": {
  "kernelspec": {
   "display_name": "Python 3 (ipykernel)",
   "language": "python",
   "name": "python3"
  },
  "language_info": {
   "codemirror_mode": {
    "name": "ipython",
    "version": 3
   },
   "file_extension": ".py",
   "mimetype": "text/x-python",
   "name": "python",
   "nbconvert_exporter": "python",
   "pygments_lexer": "ipython3",
   "version": "3.10.9"
  }
 },
 "nbformat": 4,
 "nbformat_minor": 5
}
